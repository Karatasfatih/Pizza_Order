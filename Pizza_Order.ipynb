from os import name
import datetime
import csv
import os


# bütün bir programı main içine aldık.
def main():

  cost = 0
  description = 0

  class Pizza:

    def __init__(self):
      menu_file = open("Menu.txt" , "w")
      content = menu_file.write(" Lütfen Bir Pizza Tabanı Seçiniz: \n1: Klasik \n2: Margarita\n3: Türk Pizza\n4: Dominos Pizza")
      menu_file.close()

      menu_file = open("Menu.txt" , "r")
      self.karşılama = menu_file.read()


    def get_cost(self):
      cost = 0


  class Klasik(Pizza):
    def __init__(self, cost, description):
      cost = 40
      description = "\nÜrün içeriği şu şekildedir: \nSucuk, Peynir, Domates Sosu."
      Pizza.__init__(self)
      self.description = description
      self.cost = cost

  class Margarita(Pizza):
    def __init__(self, cost, description):
      cost = 40 
      description = "\nÜrün içeriği şu şekildedir: \nMozarella, Domates"
      Pizza.__init__(self)
      self.description = description
      self.cost = cost       

  class Turk_Pizzasi(Pizza):
    def __init__(self, cost, description):
      cost = 60
      description = "\nÜrün içeriği şu şekildedir: \nPeynir, Soğan, Sucuk"
      self.description = description
      self.cost = cost       

  class Dominos_Pizza(Pizza):
    def __init__(self, cost, description):
      cost = 50
      description = "\nÜrün içeriği şu şekildedir: \nPeynir, Zeytin, Pastırma"
      self.description = description
      self.cost = cost       


  welcome = Pizza()
  print(welcome.karşılama)


  content = { 1: "Klasik",
              2: "Margarita", 
              3: "Turk_Pizzasi", 
              4: "Dominos_Pizza"}

  i = input()
  i = int(i)

  while i in content:
    if i == 1:
      siparis = Klasik(cost=cost, description=description)
      print(siparis.description)
      pizza_tabani = "Klasik"
      break
    elif i == 2:
      siparis = Margarita(cost=cost, description=description)
      print(siparis.description)
      pizza_tabani = "Margarita"
      break
    elif i == 3:
      siparis = Turk_Pizzasi(cost=cost, description=description)
      print(siparis.description)
      pizza_tabani = "Türk Pizzası"
      break
    elif i == 4:
      siparis = Dominos_Pizza(cost=cost, description=description)
      print(siparis.description)
      pizza_tabani = "Dominos Pizza"
      break
    else:
      print("\nHatalı tuşlama yaptınız. Tekrar deneyiniz.")


  ilk_maliyet = siparis.cost
  print(f"\nTutar: {ilk_maliyet}₺\n")




  sos_cost = 0

  class Decorator:


    print("Lütfen sos seçiniz. Sos istemiyorsanız veya tercihinizi tamamladıysanız '-' tıklayınız; ")
    print(" 1: Zeytin = 10₺ \n 2: Mantarlar = 15₺ \n 3: Keçi Peyniri = 20₺ \n 4: Et = 20₺ \n 5: Soğan = 10₺ \n 6: Mısır = 10₺ ")
    

    def __init__(self):
      pass

  class Zeytin(Decorator):
    def __init__(self, sos_cost):
      sos_cost = 10
      print(f"Zeytin ==> {sos_cost}₺")
      Decorator.__init__(self)
      self.sos_cost = sos_cost       

  class Mantar(Decorator):
    def __init__(self, sos_cost):
      sos_cost = 15
      print(f"Mantar ==> {sos_cost}₺")
      Decorator.__init__(self)
      self.sos_cost = sos_cost       

  class Keci_Peyniri(Decorator):
    def __init__(self, sos_cost):
      sos_cost = 20
      print(f"Keçi Peyniri ==> {sos_cost}₺")
      Decorator.__init__(self)
      self.sos_cost = sos_cost       

  class Et(Decorator):
    def __init__(self, sos_cost):
      sos_cost = 20
      print(f"Et ==> {sos_cost}₺")
      Decorator.__init__(self)
      self.sos_cost = sos_cost       

  class Sogan(Decorator):
    def __init__(self, sos_cost):
      sos_cost = 10
      print(f"Soğan ==> {sos_cost}₺")
      Decorator.__init__(self)
      self.sos_cost = sos_cost       


  class Misir(Decorator):
    def __init__(self, sos_cost):
      sos_cost = 10
      print(f"Mısır ==> {sos_cost}₺")
      Decorator.__init__(self)
      self.sos_cost = sos_cost       


  sos_isimleri = {"1": "Zeytin", 
                  "2": "Mantar", 
                  "3": "Keçi Peyniri", 
                  "4": "Et", 
                  "5": "Soğan", 
                  "6": "Mısır"   
                  }


  sos_isimleri_list = list(sos_isimleri.values())
  soslar = set()
  sos_ücretleri = 0
  seçim_sırası = 1

  while 1==1:
    
    sos_secimi = input(f"\n{seçim_sırası}. Tercihiniz: ")

    while 1 == 1:
      seçim_sırası += 1
      if sos_secimi == "1":
        siparis = Zeytin(sos_cost = sos_cost)
        sos_secimi = int(sos_secimi)
        soslar.add(sos_isimleri_list[sos_secimi - 1])
        sos_ücretleri += siparis.sos_cost
        break

      elif sos_secimi == "2":
        siparis = Mantar(sos_cost = sos_cost)
        sos_secimi = int(sos_secimi)
        soslar.add(sos_isimleri_list[sos_secimi - 1])
        sos_ücretleri += siparis.sos_cost
        break

      elif sos_secimi == "3":
        siparis = Keci_Peyniri(sos_cost = sos_cost)
        sos_secimi = int(sos_secimi)
        soslar.add(sos_isimleri_list[sos_secimi - 1])
        sos_ücretleri += siparis.sos_cost
        break

      elif sos_secimi == "4":
        siparis = Et(sos_cost = sos_cost)
        sos_secimi = int(sos_secimi)
        soslar.add(sos_isimleri_list[sos_secimi - 1])
        sos_ücretleri += siparis.sos_cost
        break

      elif sos_secimi == "5":
        siparis = Sogan(sos_cost = sos_cost)
        sos_secimi = int(sos_secimi)
        soslar.add(sos_isimleri_list[sos_secimi - 1])
        sos_ücretleri += siparis.sos_cost
        break

      elif sos_secimi == "6":
        siparis = Misir(sos_cost = sos_cost)
        sos_secimi = int(sos_secimi)
        soslar.add(sos_isimleri_list[sos_secimi - 1])
        sos_ücretleri += siparis.sos_cost
        break

      elif not sos_secimi == "-":
        print("Hatalı tuşlama yaptınız. Tekrar deneyiniz.")
        break

      else:
        break
        
    if sos_secimi == "-":
      break


  # sos tercih edilmediyse ekrana 'seçilen sos' yazılmaması için
  if len(soslar) > 0:
    print("\nSeçilen Soslar:")

  i = 0
  seçilen_soslar = ""  #

  if len(soslar) == 0:
    soslar.add("-")

  for sos in soslar:
    i += 1
    print(f"{i}) {sos}")
    seçilen_soslar += f'{sos}\n'

  print(f"\nSeçilen Sos Ücreti: {sos_ücretleri}")
  total = ilk_maliyet + sos_ücretleri
  print(f"Toplam Tutar: {total}₺\n")

  isim = input("Lütfen İsminizi Giriniz: ")
  soyisim = input("Lütfen Soyisminizi Giriniz: ")
  user_ID = input("Lütfen TC Numaranızı Giriniz: ")
  cc_no = input("Lütfen Kredi Kartı Numaranızı Giriniz: ")
  cc_pass = input("Lütfen Kredi Kartı Şifrenizi Giriniz: ")
  date = datetime.datetime.now()


  print("\nSiparişiniz Alınmıştır. Teşekkürler")
    
  başlık = ['İsim', 'Soyisim', 'Pizza Tabanı', 'Soslar', 'Tutar', 'TC Numarası', 'Kredi Kartı Numarası', 'Kredi Kartı Şifresi', 'Tarih']
  data = [isim, soyisim, pizza_tabani, seçilen_soslar, total, user_ID, cc_no, cc_pass, date]


  csv_dos = 'Orders_Database.csv'

  if not os.path.exists(csv_dos):
      with open(csv_dos, 'w', newline='') as sip_dos:
          x = csv.writer(sip_dos)
          x.writerow(başlık)


  with open(csv_dos, 'a', newline='') as sip_dos:
    x = csv.writer(sip_dos)
    x.writerow(data)



  
main()
